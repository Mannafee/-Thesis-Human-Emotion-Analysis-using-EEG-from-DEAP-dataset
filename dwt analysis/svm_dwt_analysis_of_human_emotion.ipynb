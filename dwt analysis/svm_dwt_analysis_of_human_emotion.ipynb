{
 "cells": [
  {
   "cell_type": "code",
   "execution_count": 54,
   "metadata": {},
   "outputs": [
    {
     "name": "stdout",
     "output_type": "stream",
     "text": [
      "0.57578125\n",
      "0.573828125\n",
      "0.551953125\n",
      "0.56875\n",
      "0.565234375\n",
      "0.560546875\n",
      "0.56328125\n",
      "0.568359375\n",
      "0.573828125\n",
      "0.5640625\n",
      "0.5703125\n",
      "0.551953125\n",
      "0.58828125\n",
      "0.561328125\n",
      "0.582421875\n",
      "0.56015625\n",
      "0.566796875\n",
      "0.573046875\n",
      "0.571875\n",
      "0.56328125\n",
      "0.55859375\n",
      "0.569921875\n",
      "0.553125\n",
      "0.5640625\n",
      "0.558984375\n",
      "0.55625\n",
      "0.5671875\n",
      "0.57265625\n",
      "0.566015625\n",
      "0.57109375\n",
      "0.56171875\n"
     ]
    }
   ],
   "source": [
    "import numpy as np\n",
    "from sklearn import preprocessing, cross_validation, svm\n",
    "import pandas as pd\n",
    "from sklearn.decomposition import PCA\n",
    "for i in range(1,32):\n",
    "    if i<10 :\n",
    "        b='0'+str(i)\n",
    "    else: \n",
    "        b=str(i)\n",
    "    f='testfile_'+b+'.txt'\n",
    "    df=pd.read_csv(f)\n",
    "    df.drop(['user'],1,inplace=True)\n",
    "    df.drop(['video'],1,inplace=True)\n",
    "    df.drop(['wavesegment'],1,inplace=True)\n",
    "    df.drop(['combined'],1,inplace=True)\n",
    "    df.drop(['arousal'],1,inplace=True)\n",
    "    \n",
    "    X=np.array(df.drop(['valence'],1))\n",
    "    y=np.array(df['valence'])\n",
    "    X_train,X_test,y_train,y_test =cross_validation.train_test_split(X,y,test_size=0.2)\n",
    "    pca = PCA(n_components=2)# adjust yourself\n",
    "    pca.fit(X_train)\n",
    "    X_t_train = pca.transform(X_train)\n",
    "    X_t_test = pca.transform(X_test)\n",
    "    lin_clf =  svm.SVC(C=1.0, cache_size=200, class_weight=None, coef0=0.0,\n",
    "        decision_function_shape='ovo', degree=3, gamma='auto', kernel='sigmoid',\n",
    "        max_iter=-1, probability=False, random_state=None, shrinking=True,\n",
    "        tol=0.001, verbose=False)\n",
    "    lin_clf.fit(X_train, y_train) \n",
    "    accuracy=lin_clf.score(X_test,y_test)\n",
    "    print(accuracy)"
   ]
  },
  {
   "cell_type": "code",
   "execution_count": 24,
   "metadata": {},
   "outputs": [
    {
     "name": "stdout",
     "output_type": "stream",
     "text": [
      "0.598828125\n",
      "0.583984375\n",
      "0.592578125\n",
      "0.58984375\n",
      "0.580859375\n",
      "0.595703125\n",
      "0.58984375\n",
      "0.576953125\n",
      "0.585546875\n",
      "0.5984375\n",
      "0.58671875\n",
      "0.586328125\n",
      "0.59765625\n",
      "0.590625\n",
      "0.590625\n",
      "0.583984375\n",
      "0.58671875\n",
      "0.573828125\n",
      "0.601953125\n",
      "0.598828125\n",
      "0.597265625\n",
      "0.592578125\n",
      "0.603515625\n",
      "0.591796875\n",
      "0.587109375\n",
      "0.598828125\n",
      "0.593359375\n",
      "0.58828125\n",
      "0.574609375\n",
      "0.604296875\n",
      "0.58125\n"
     ]
    }
   ],
   "source": [
    "for i in range(1,32):\n",
    "    if i<10 :\n",
    "        b='0'+str(i)\n",
    "    else: \n",
    "        b=str(i)\n",
    "    f='testfile_'+b+'.txt'\n",
    "    df=pd.read_csv(f)\n",
    "    df.drop(['user'],1,inplace=True)\n",
    "    df.drop(['video'],1,inplace=True)\n",
    "    df.drop(['wavesegment'],1,inplace=True)\n",
    "    df.drop(['combined'],1,inplace=True)\n",
    "    df.drop(['valence'],1,inplace=True)\n",
    "    X=np.array(df.drop(['arousal'],1))\n",
    "    y=np.array(df['arousal'])\n",
    "    X_train,X_test,y_train,y_test =cross_validation.train_test_split(X,y,test_size=0.2)\n",
    "    lin_clf =  svm.SVC(C=1.0, cache_size=200, class_weight=None, coef0=0.0,\n",
    "        decision_function_shape='ovo', degree=3, gamma='auto', kernel='sigmoid',\n",
    "        max_iter=-1, probability=False, random_state=None, shrinking=True,\n",
    "        tol=0.001, verbose=False)\n",
    "    lin_clf.fit(X_train, y_train) \n",
    "    accuracy=lin_clf.score(X_test,y_test)\n",
    "    print(accuracy)"
   ]
  },
  {
   "cell_type": "code",
   "execution_count": 19,
   "metadata": {},
   "outputs": [
    {
     "name": "stdout",
     "output_type": "stream",
     "text": [
      "testfile_02.txt\n"
     ]
    }
   ],
   "source": []
  },
  {
   "cell_type": "code",
   "execution_count": 56,
   "metadata": {},
   "outputs": [
    {
     "data": {
      "image/png": "[encoded data removed]",
      "text/plain": [
       "<matplotlib.figure.Figure at 0x1f1c4c3ab70>"
      ]
     },
     "metadata": {},
     "output_type": "display_data"
    }
   ],
   "source": [
    "import matplotlib.pyplot as plt\n",
    "from numpy import *\n",
    "data1=100*array([0.564453125,0.5515625,0.56015625,0.55859375,0.579296875,0.5640625,0.56210937,0.560546875,0.5703125,0.565625,\n",
    "        0.571875,0.559375,0.5648437,0.5859375,0.56914062,0.56015625,0.571484375,0.5734375,0.55898437,0.569140625,0.551953125,\n",
    "0.56875,0.562109,0.573828125,0.569140625,0.56953125,0.56328125,0.56796875,0.567578125,0.561328125,0.565625])\n",
    "data2=100*array([0.598828125,0.583984375,0.592578125,0.58984375,0.580859375,0.595703125,0.58984375,0.576953125,0.585546875,0.5984375,\n",
    "       0.58671875,0.586328125,0.59765625,0.590625,0.590625,0.583984375,0.58671875,0.573828125,0.601953125,0.598828125,\n",
    "       0.597265625,0.592578125,0.603515625,0.591796875,0.587109375,0.598828125,0.593359375,0.58828125,0.574609375,0.604296875,\n",
    "       0.58125])\n",
    "#plt.hist(data1)#, bins=np.arange(data2.min(), data2.max()+1))\n",
    "plt.plot(data1)\n",
    "plt.ylabel('valencel accuracies')\n",
    "plt.xlabel('channel')\n",
    "plt.show()"
   ]
  },
  {
   "cell_type": "code",
   "execution_count": 46,
   "metadata": {},
   "outputs": [
    {
     "ename": "ValueError",
     "evalue": "incompatible sizes: argument 'height' must be length 32 or scalar",
     "output_type": "error",
     "traceback": [
      "\u001b[1;31m---------------------------------------------------------------------------\u001b[0m",
      "\u001b[1;31mValueError\u001b[0m                                Traceback (most recent call last)",
      "\u001b[1;32m<ipython-input-46-6b92ff187b96>\u001b[0m in \u001b[0;36m<module>\u001b[1;34m()\u001b[0m\n\u001b[0;32m      6\u001b[0m \u001b[1;33m\u001b[0m\u001b[0m\n\u001b[0;32m      7\u001b[0m \u001b[0mfig\u001b[0m\u001b[1;33m,\u001b[0m \u001b[0max\u001b[0m \u001b[1;33m=\u001b[0m \u001b[0mplt\u001b[0m\u001b[1;33m.\u001b[0m\u001b[0msubplots\u001b[0m\u001b[1;33m(\u001b[0m\u001b[1;33m)\u001b[0m\u001b[1;33m\u001b[0m\u001b[0m\n\u001b[1;32m----> 8\u001b[1;33m \u001b[0mplt\u001b[0m\u001b[1;33m.\u001b[0m\u001b[0mbar\u001b[0m\u001b[1;33m(\u001b[0m\u001b[0mx\u001b[0m\u001b[1;33m,\u001b[0m \u001b[0mdata1\u001b[0m\u001b[1;33m)\u001b[0m\u001b[1;33m\u001b[0m\u001b[0m\n\u001b[0m\u001b[0;32m      9\u001b[0m \u001b[1;31m#plt.xticks(x, ('1', 'Fred', 'Mary', 'Sue'))\u001b[0m\u001b[1;33m\u001b[0m\u001b[1;33m\u001b[0m\u001b[0m\n\u001b[0;32m     10\u001b[0m \u001b[0mplt\u001b[0m\u001b[1;33m.\u001b[0m\u001b[0mshow\u001b[0m\u001b[1;33m(\u001b[0m\u001b[1;33m)\u001b[0m\u001b[1;33m\u001b[0m\u001b[0m\n",
      "\u001b[1;32mC:\\ProgramData\\Anaconda3\\lib\\site-packages\\matplotlib\\pyplot.py\u001b[0m in \u001b[0;36mbar\u001b[1;34m(left, height, width, bottom, hold, data, **kwargs)\u001b[0m\n\u001b[0;32m   2702\u001b[0m     \u001b[1;32mtry\u001b[0m\u001b[1;33m:\u001b[0m\u001b[1;33m\u001b[0m\u001b[0m\n\u001b[0;32m   2703\u001b[0m         ret = ax.bar(left, height, width=width, bottom=bottom, data=data,\n\u001b[1;32m-> 2704\u001b[1;33m                      **kwargs)\n\u001b[0m\u001b[0;32m   2705\u001b[0m     \u001b[1;32mfinally\u001b[0m\u001b[1;33m:\u001b[0m\u001b[1;33m\u001b[0m\u001b[0m\n\u001b[0;32m   2706\u001b[0m         \u001b[0max\u001b[0m\u001b[1;33m.\u001b[0m\u001b[0m_hold\u001b[0m \u001b[1;33m=\u001b[0m \u001b[0mwashold\u001b[0m\u001b[1;33m\u001b[0m\u001b[0m\n",
      "\u001b[1;32mC:\\ProgramData\\Anaconda3\\lib\\site-packages\\matplotlib\\__init__.py\u001b[0m in \u001b[0;36minner\u001b[1;34m(ax, *args, **kwargs)\u001b[0m\n\u001b[0;32m   1895\u001b[0m                     warnings.warn(msg % (label_namer, func.__name__),\n\u001b[0;32m   1896\u001b[0m                                   RuntimeWarning, stacklevel=2)\n\u001b[1;32m-> 1897\u001b[1;33m             \u001b[1;32mreturn\u001b[0m \u001b[0mfunc\u001b[0m\u001b[1;33m(\u001b[0m\u001b[0max\u001b[0m\u001b[1;33m,\u001b[0m \u001b[1;33m*\u001b[0m\u001b[0margs\u001b[0m\u001b[1;33m,\u001b[0m \u001b[1;33m**\u001b[0m\u001b[0mkwargs\u001b[0m\u001b[1;33m)\u001b[0m\u001b[1;33m\u001b[0m\u001b[0m\n\u001b[0m\u001b[0;32m   1898\u001b[0m         \u001b[0mpre_doc\u001b[0m \u001b[1;33m=\u001b[0m \u001b[0minner\u001b[0m\u001b[1;33m.\u001b[0m\u001b[0m__doc__\u001b[0m\u001b[1;33m\u001b[0m\u001b[0m\n\u001b[0;32m   1899\u001b[0m         \u001b[1;32mif\u001b[0m \u001b[0mpre_doc\u001b[0m \u001b[1;32mis\u001b[0m \u001b[1;32mNone\u001b[0m\u001b[1;33m:\u001b[0m\u001b[1;33m\u001b[0m\u001b[0m\n",
      "\u001b[1;32mC:\\ProgramData\\Anaconda3\\lib\\site-packages\\matplotlib\\axes\\_axes.py\u001b[0m in \u001b[0;36mbar\u001b[1;34m(self, left, height, width, bottom, **kwargs)\u001b[0m\n\u001b[0;32m   2077\u001b[0m         \u001b[1;32mif\u001b[0m \u001b[0mlen\u001b[0m\u001b[1;33m(\u001b[0m\u001b[0mheight\u001b[0m\u001b[1;33m)\u001b[0m \u001b[1;33m!=\u001b[0m \u001b[0mnbars\u001b[0m\u001b[1;33m:\u001b[0m\u001b[1;33m\u001b[0m\u001b[0m\n\u001b[0;32m   2078\u001b[0m             raise ValueError(\"incompatible sizes: argument 'height' \"\n\u001b[1;32m-> 2079\u001b[1;33m                               \"must be length %d or scalar\" % nbars)\n\u001b[0m\u001b[0;32m   2080\u001b[0m         \u001b[1;32mif\u001b[0m \u001b[0mlen\u001b[0m\u001b[1;33m(\u001b[0m\u001b[0mwidth\u001b[0m\u001b[1;33m)\u001b[0m \u001b[1;33m!=\u001b[0m \u001b[0mnbars\u001b[0m\u001b[1;33m:\u001b[0m\u001b[1;33m\u001b[0m\u001b[0m\n\u001b[0;32m   2081\u001b[0m             raise ValueError(\"incompatible sizes: argument 'width' \"\n",
      "\u001b[1;31mValueError\u001b[0m: incompatible sizes: argument 'height' must be length 32 or scalar"
     ]
    }
   ],
   "source": []
  },
  {
   "cell_type": "code",
   "execution_count": null,
   "metadata": {
    "collapsed": true
   },
   "outputs": [],
   "source": [
    "from matplotlib.ticker import FuncFormatter\n",
    "import matplotlib.pyplot as plt\n",
    "import numpy as np\n",
    "\n",
    "x = np.arange(4)\n",
    "money = [1.5e5, 2.5e6, 5.5e6, 2.0e7]\n",
    "\n",
    "\n",
    "def millions(x, pos):\n",
    "    'The two args are the value and tick position'\n",
    "    return '$%1.1fM' % (x * 1e-6)\n",
    "\n",
    "\n",
    "formatter = FuncFormatter(millions)\n",
    "\n",
    "fig, ax = plt.subplots()\n",
    "ax.yaxis.set_major_formatter(formatter)\n",
    "plt.bar(x, money)\n",
    "plt.xticks(x, ('Bill', 'Fred', 'Mary', 'Sue'))\n",
    "plt.show()"
   ]
  }
 ],
 "metadata": {
  "kernelspec": {
   "display_name": "Python 3",
   "language": "python",
   "name": "python3"
  },
  "language_info": {
   "codemirror_mode": {
    "name": "ipython",
    "version": 3
   },
   "file_extension": ".py",
   "mimetype": "text/x-python",
   "name": "python",
   "nbconvert_exporter": "python",
   "pygments_lexer": "ipython3",
   "version": "3.6.1"
  }
 },
 "nbformat": 4,
 "nbformat_minor": 2
}
